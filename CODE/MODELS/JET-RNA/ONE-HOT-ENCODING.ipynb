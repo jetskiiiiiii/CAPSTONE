{
 "cells": [
  {
   "cell_type": "code",
   "execution_count": 2,
   "metadata": {},
   "outputs": [],
   "source": [
    "import numpy as np"
   ]
  },
  {
   "cell_type": "code",
   "execution_count": 21,
   "metadata": {},
   "outputs": [],
   "source": [
    "# one hot sequence\n",
    "def get_one_hot_sequence(sequence):\n",
    "    bases = np.array(['A', 'U', 'G', 'C'])\n",
    "    encoding = []\n",
    "    for i in range(len(sequence)):\n",
    "        encoding.append([])\n",
    "        for j in range(len(bases)):\n",
    "            if sequence[i] == bases[j]:\n",
    "                encoding[i].append(1)\n",
    "            else:\n",
    "                encoding[i].append(0)\n",
    "    return np.array(encoding)"
   ]
  },
  {
   "cell_type": "code",
   "execution_count": 13,
   "metadata": {},
   "outputs": [],
   "source": [
    "# SPOT-RNA one-hot encoding\n",
    "def one_hot(seq):\n",
    "    RNN_seq = seq\n",
    "    BASES = 'AUCG'\n",
    "    bases = np.array([base for base in BASES])\n",
    "    feat = np.concatenate(\n",
    "        [[(bases == base.upper()).astype(int)] if str(base).upper() in BASES else np.array([[-1] * len(BASES)]) for base\n",
    "         in RNN_seq])\n",
    "\n",
    "    return feat\n",
    "\n",
    "\n",
    "spot_encoding = one_hot(sequence)"
   ]
  },
  {
   "cell_type": "code",
   "execution_count": null,
   "metadata": {},
   "outputs": [],
   "source": [
    "# GCNFOLD one-hot encoding\n",
    "# def matrix2seq(one_hot_matrices):\n",
    "#     d = {'A': torch.tensor([[1., 0., 0., 0.]]),\n",
    "#          'U': torch.tensor([[0., 1., 0., 0.]]),\n",
    "#          'C': torch.tensor([[0., 0., 1., 0.]]),\n",
    "#          'G': torch.tensor([[0., 0., 0., 1.]])}\n",
    "#     seq_list = []\n",
    "#     for i in range(one_hot_matrices.shape[0]):\n",
    "#         one_hot_matrice = one_hot_matrices[i, 0, :]\n",
    "#         seq = \"\"\n",
    "#         for loc in range(one_hot_matrice.shape[0]):\n",
    "#             if one_hot_matrice[loc, 0] == 1:\n",
    "#                 seq += 'A'\n",
    "#             elif one_hot_matrice[loc, 1] == 1:\n",
    "#                 seq += 'G'\n",
    "#             elif one_hot_matrice[loc, 2] == 1:\n",
    "#                 seq += 'C'\n",
    "#             elif one_hot_matrice[loc, 3] == 1:\n",
    "#                 seq += 'U'\n",
    "#             else:\n",
    "#                 seq += 'N'\n",
    "#         seq_list.append(seq)\n",
    "\n",
    "#     return seq_list"
   ]
  },
  {
   "cell_type": "code",
   "execution_count": 15,
   "metadata": {},
   "outputs": [
    {
     "name": "stdout",
     "output_type": "stream",
     "text": [
      "1\n"
     ]
    }
   ],
   "source": [
    "if my_encoding.all() == spot_encoding.all():\n",
    "    print(1)"
   ]
  }
 ],
 "metadata": {
  "kernelspec": {
   "display_name": ".venv",
   "language": "python",
   "name": "python3"
  },
  "language_info": {
   "codemirror_mode": {
    "name": "ipython",
    "version": 3
   },
   "file_extension": ".py",
   "mimetype": "text/x-python",
   "name": "python",
   "nbconvert_exporter": "python",
   "pygments_lexer": "ipython3",
   "version": "3.11.7"
  }
 },
 "nbformat": 4,
 "nbformat_minor": 2
}
