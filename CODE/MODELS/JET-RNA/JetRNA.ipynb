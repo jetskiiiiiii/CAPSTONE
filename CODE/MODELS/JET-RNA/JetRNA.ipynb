{
 "cells": [
  {
   "cell_type": "code",
   "execution_count": 195,
   "metadata": {},
   "outputs": [],
   "source": [
    "import numpy as np\n",
    "import tensorflow as tf\n",
    "import pandas as pd"
   ]
  },
  {
   "cell_type": "code",
   "execution_count": 196,
   "metadata": {},
   "outputs": [],
   "source": [
    "from OneHotEncoding import get_one_hot_sequence\n",
    "from BuildMatrixFromDotBracket import get_couples, build_matrix"
   ]
  },
  {
   "cell_type": "code",
   "execution_count": 197,
   "metadata": {},
   "outputs": [],
   "source": [
    "example_structure = \"...(((((((..((((((.........))))))......).((((((.......))))))..))))))...\"\n",
    "example_sequence = \"CGCUUCAUAUAAUCCUAAUGAUAUGGUUUGGGAGUUUCUACCAAGAGCCUUAAACUCUUGAUUAUGAAGUG\"\n",
    "example_length = len(example_sequence)\n",
    "\n",
    "# Get one-hot encoded sequence (X) and adjacency matrix (y) of example data\n",
    "example_one_hot = get_one_hot_sequence(example_sequence)\n",
    "example_matrix = build_matrix(get_couples(example_structure), example_length)"
   ]
  },
  {
   "cell_type": "markdown",
   "metadata": {},
   "source": [
    "# Creating the model"
   ]
  },
  {
   "cell_type": "code",
   "execution_count": 198,
   "metadata": {},
   "outputs": [],
   "source": [
    "# Define the input layer to accept one-hot encoded sequences\n",
    "input_layer = tf.keras.layers.Input(shape=(example_length, 4))"
   ]
  },
  {
   "cell_type": "code",
   "execution_count": 199,
   "metadata": {},
   "outputs": [],
   "source": [
    "# Process sequences using an LSTM layer, returning all outputs\n",
    "lstm_layer = tf.keras.layers.LSTM(units=64, return_sequences=True)(input_layer)"
   ]
  },
  {
   "cell_type": "code",
   "execution_count": 200,
   "metadata": {},
   "outputs": [],
   "source": [
    "# Flatten the LSTM output into a 1D vector\n",
    "flattened = tf.keras.layers.Flatten()(lstm_layer)"
   ]
  },
  {
   "cell_type": "code",
   "execution_count": 201,
   "metadata": {},
   "outputs": [],
   "source": [
    "# Create a dense output layer with sigmoid activation for probabilities\n",
    "output_layer = tf.keras.layers.Dense(example_length * example_length, activation='sigmoid')(flattened)"
   ]
  },
  {
   "cell_type": "code",
   "execution_count": 202,
   "metadata": {},
   "outputs": [],
   "source": [
    "# Reshape the output into a 2D adjacency matrix\n",
    "adjacency_matrix = tf.reshape(output_layer, (-1, example_length, example_length))"
   ]
  },
  {
   "cell_type": "code",
   "execution_count": 203,
   "metadata": {},
   "outputs": [],
   "source": [
    "# Construct the model, specifying input and output layers\n",
    "model = tf.keras.Model(inputs=input_layer, outputs=adjacency_matrix)"
   ]
  },
  {
   "cell_type": "code",
   "execution_count": 204,
   "metadata": {},
   "outputs": [],
   "source": [
    "# Configure the model for training\n",
    "model.compile(loss='binary_crossentropy', optimizer='adam', metrics=['accuracy'])"
   ]
  },
  {
   "cell_type": "code",
   "execution_count": 205,
   "metadata": {},
   "outputs": [
    {
     "name": "stdout",
     "output_type": "stream",
     "text": [
      "Model: \"model_13\"\n",
      "_________________________________________________________________\n",
      " Layer (type)                Output Shape              Param #   \n",
      "=================================================================\n",
      " input_21 (InputLayer)       [(None, 71, 4)]           0         \n",
      "                                                                 \n",
      " lstm_19 (LSTM)              (None, 71, 64)            17664     \n",
      "                                                                 \n",
      " flatten_15 (Flatten)        (None, 4544)              0         \n",
      "                                                                 \n",
      " dense_16 (Dense)            (None, 5041)              22911345  \n",
      "                                                                 \n",
      " tf.reshape_15 (TFOpLambda)  (None, 71, 71)            0         \n",
      "                                                                 \n",
      "=================================================================\n",
      "Total params: 22929009 (87.47 MB)\n",
      "Trainable params: 22929009 (87.47 MB)\n",
      "Non-trainable params: 0 (0.00 Byte)\n",
      "_________________________________________________________________\n"
     ]
    }
   ],
   "source": [
    "model.summary()"
   ]
  },
  {
   "cell_type": "code",
   "execution_count": 212,
   "metadata": {},
   "outputs": [
    {
     "name": "stdout",
     "output_type": "stream",
     "text": [
      "(1, 71, 4) (1, 71, 71)\n"
     ]
    }
   ],
   "source": [
    "# Reshape input data to match model's expected shape\n",
    "example_one_hot = example_one_hot.reshape(1, 71, 4)\n",
    "example_matrix = example_matrix.reshape(1, 71, 71)\n",
    "print(example_one_hot.shape, example_matrix.shape)"
   ]
  },
  {
   "cell_type": "code",
   "execution_count": 213,
   "metadata": {},
   "outputs": [
    {
     "name": "stdout",
     "output_type": "stream",
     "text": [
      "Epoch 1/10\n",
      "1/1 [==============================] - 3s 3s/step - loss: 0.6932 - accuracy: 0.0141\n",
      "Epoch 2/10\n",
      "1/1 [==============================] - 0s 178ms/step - loss: 0.6321 - accuracy: 0.4789\n",
      "Epoch 3/10\n",
      "1/1 [==============================] - 0s 175ms/step - loss: 0.5625 - accuracy: 0.4648\n",
      "Epoch 4/10\n",
      "1/1 [==============================] - 0s 178ms/step - loss: 0.4864 - accuracy: 0.4648\n",
      "Epoch 5/10\n",
      "1/1 [==============================] - 0s 187ms/step - loss: 0.4058 - accuracy: 0.4789\n",
      "Epoch 6/10\n",
      "1/1 [==============================] - 0s 232ms/step - loss: 0.3230 - accuracy: 0.4930\n",
      "Epoch 7/10\n",
      "1/1 [==============================] - 0s 177ms/step - loss: 0.2413 - accuracy: 0.4789\n",
      "Epoch 8/10\n",
      "1/1 [==============================] - 0s 186ms/step - loss: 0.1651 - accuracy: 0.4789\n",
      "Epoch 9/10\n",
      "1/1 [==============================] - 0s 191ms/step - loss: 0.0998 - accuracy: 0.4789\n",
      "Epoch 10/10\n",
      "1/1 [==============================] - 0s 197ms/step - loss: 0.0505 - accuracy: 0.4930\n"
     ]
    }
   ],
   "source": [
    "# Train the model with input and target data for 10 epochs\n",
    "history = model.fit(example_one_hot, example_matrix, epochs=10)"
   ]
  },
  {
   "cell_type": "code",
   "execution_count": 215,
   "metadata": {},
   "outputs": [
    {
     "data": {
      "text/html": [
       "<div>\n",
       "<style scoped>\n",
       "    .dataframe tbody tr th:only-of-type {\n",
       "        vertical-align: middle;\n",
       "    }\n",
       "\n",
       "    .dataframe tbody tr th {\n",
       "        vertical-align: top;\n",
       "    }\n",
       "\n",
       "    .dataframe thead th {\n",
       "        text-align: right;\n",
       "    }\n",
       "</style>\n",
       "<table border=\"1\" class=\"dataframe\">\n",
       "  <thead>\n",
       "    <tr style=\"text-align: right;\">\n",
       "      <th></th>\n",
       "      <th>loss</th>\n",
       "      <th>accuracy</th>\n",
       "    </tr>\n",
       "  </thead>\n",
       "  <tbody>\n",
       "    <tr>\n",
       "      <th>0</th>\n",
       "      <td>0.693203</td>\n",
       "      <td>0.014085</td>\n",
       "    </tr>\n",
       "    <tr>\n",
       "      <th>1</th>\n",
       "      <td>0.632065</td>\n",
       "      <td>0.478873</td>\n",
       "    </tr>\n",
       "    <tr>\n",
       "      <th>2</th>\n",
       "      <td>0.562467</td>\n",
       "      <td>0.464789</td>\n",
       "    </tr>\n",
       "    <tr>\n",
       "      <th>3</th>\n",
       "      <td>0.486421</td>\n",
       "      <td>0.464789</td>\n",
       "    </tr>\n",
       "    <tr>\n",
       "      <th>4</th>\n",
       "      <td>0.405829</td>\n",
       "      <td>0.478873</td>\n",
       "    </tr>\n",
       "  </tbody>\n",
       "</table>\n",
       "</div>"
      ],
      "text/plain": [
       "       loss  accuracy\n",
       "0  0.693203  0.014085\n",
       "1  0.632065  0.478873\n",
       "2  0.562467  0.464789\n",
       "3  0.486421  0.464789\n",
       "4  0.405829  0.478873"
      ]
     },
     "execution_count": 215,
     "metadata": {},
     "output_type": "execute_result"
    }
   ],
   "source": [
    "history_df = pd.DataFrame(history.history)\n",
    "history_df.head()"
   ]
  },
  {
   "cell_type": "code",
   "execution_count": 216,
   "metadata": {},
   "outputs": [
    {
     "data": {
      "text/plain": [
       "<Axes: >"
      ]
     },
     "execution_count": 216,
     "metadata": {},
     "output_type": "execute_result"
    },
    {
     "data": {
      "image/png": "[encoded data removed]",
      "text/plain": [
       "<Figure size 640x480 with 1 Axes>"
      ]
     },
     "metadata": {},
     "output_type": "display_data"
    },
    {
     "data": {
      "image/png": "[encoded data removed]",
      "text/plain": [
       "<Figure size 640x480 with 1 Axes>"
      ]
     },
     "metadata": {},
     "output_type": "display_data"
    }
   ],
   "source": [
    "# Plot the loss and accuracy\n",
    "history_df.loc[:, ['loss']].plot()\n",
    "history_df.loc[:, ['accuracy']].plot()"
   ]
  }
 ],
 "metadata": {
  "kernelspec": {
   "display_name": ".venv",
   "language": "python",
   "name": "python3"
  },
  "language_info": {
   "codemirror_mode": {
    "name": "ipython",
    "version": 3
   },
   "file_extension": ".py",
   "mimetype": "text/x-python",
   "name": "python",
   "nbconvert_exporter": "python",
   "pygments_lexer": "ipython3",
   "version": "3.11.7"
  }
 },
 "nbformat": 4,
 "nbformat_minor": 2
}
