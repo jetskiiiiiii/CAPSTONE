{
 "cells": [
  {
   "cell_type": "markdown",
   "metadata": {},
   "source": [
    "# The Loss Function\n",
    "\n",
    "The *loss function* measures the difference between the true value and predicted value.\n",
    "\n",
    "It gives the neural network an objective (minimize the loss).\n",
    "\n",
    "<br/>\n",
    "\n",
    "A common loss function in regression tasks is *mean absolute error (MAE)*, given by *abs(y_true - y pred)*.\n",
    "\n",
    "Other common loss functions in regression are the *mean-squared error (MASE)* or the *Huber loss*."
   ]
  },
  {
   "cell_type": "markdown",
   "metadata": {},
   "source": [
    "# The Optimizer - Stochastic Gradient Descent\n",
    "\n",
    "The *optimizer* tells the neural network *how* to solve a certain problem.\n",
    "\n",
    "It's an algorithm that adjusts the weights to minimize the loss.\n",
    "\n",
    "<br/>\n",
    "\n",
    "Most belong to a family of *stochastic gradient descent (SGD)* algorithms which are iterative algorithms that train a network in steps.\n",
    "\n",
    "The same step repeats until the loss is small enough or won't decrese any further.\n",
    "\n",
    "Each step looks like this:\n",
    "\n",
    "1. Sample some training data and run it through the network to make some predictions.\n",
    "2. Measure the loss and between the predictions and the true values.\n",
    "3. Adjust the weights in a direction that makes the loss smaller.\n",
    "\n",
    "<br/>\n",
    "\n",
    "Each iteration's sample of training data is called a *minibatch* or *batch*. \n",
    "\n",
    "A complete round of training data is called an *epoch*. The number of epochs you train for is how many times the network will see each training example."
   ]
  },
  {
   "cell_type": "markdown",
   "metadata": {},
   "source": [
    "# Learning Rate and Batch Size\n",
    "\n",
    "The neural network only makes small changes to the weights for each batch. The size of these shifts is determined by the *learning rate*.\n",
    "\n",
    "Learning rate and size of minibatches have the largest effect on training.\n",
    "\n",
    "<br/>\n",
    "\n",
    "*Adam* is an SGD algorithm that is \"self-learning,\" taking away the need to search for hyperparamters ourselves."
   ]
  },
  {
   "cell_type": "code",
   "execution_count": 2,
   "metadata": {},
   "outputs": [
    {
     "name": "stderr",
     "output_type": "stream",
     "text": [
      "2024-01-25 21:55:12.164340: I tensorflow/core/platform/cpu_feature_guard.cc:182] This TensorFlow binary is optimized to use available CPU instructions in performance-critical operations.\n",
      "To enable the following instructions: AVX2 AVX512F AVX512_VNNI FMA, in other operations, rebuild TensorFlow with the appropriate compiler flags.\n"
     ]
    }
   ],
   "source": [
    "import tensorflow as tf\n",
    "from tensorflow import keras\n",
    "from tensorflow.keras import layers"
   ]
  },
  {
   "cell_type": "code",
   "execution_count": 3,
   "metadata": {},
   "outputs": [],
   "source": [
    "# defining the model\n",
    "\n",
    "features_shape = [3]\n",
    "\n",
    "model = keras.Sequential([\n",
    "    layers.Dense(4, activation='relu', input_shape=features_shape),\n",
    "    layers.Dense(4, activation='relu'),\n",
    "    layers.Dense(1)\n",
    "])"
   ]
  },
  {
   "cell_type": "code",
   "execution_count": 4,
   "metadata": {},
   "outputs": [],
   "source": [
    "# adding the loss and optimizer using the compile() method\n",
    "\n",
    "model.compile(\n",
    "    optimizer='adam', # we can specicify the optimizer and loss with just a string, but can also call them through the API\n",
    "    loss='mae' \n",
    ")"
   ]
  },
  {
   "cell_type": "markdown",
   "metadata": {},
   "source": [
    "# Practice"
   ]
  },
  {
   "cell_type": "code",
   "execution_count": 5,
   "metadata": {},
   "outputs": [],
   "source": [
    "import pandas as pd"
   ]
  },
  {
   "cell_type": "code",
   "execution_count": 6,
   "metadata": {},
   "outputs": [],
   "source": [
    "# setting up the training and validation data\n",
    "\n",
    "red_wine_data = pd.read_csv('./red-wine.csv')\n",
    "df_train = red_wine_data.sample(frac=0.7, random_state=0)\n",
    "df_valid = red_wine_data.drop(df_train.index)"
   ]
  },
  {
   "cell_type": "code",
   "execution_count": 7,
   "metadata": {},
   "outputs": [],
   "source": [
    "# scale features to fit from 0 to 1\n",
    "\n",
    "min_ = df_train.min(axis=0)\n",
    "max_ = df_train.max(axis=0)\n",
    "df_train_normal = (df_train - min_) / (max_ - min_)\n",
    "df_valid_normal = (df_valid - min_) / (max_ - min_)"
   ]
  },
  {
   "cell_type": "code",
   "execution_count": 8,
   "metadata": {},
   "outputs": [],
   "source": [
    "# split features into input and target\n",
    "\n",
    "X_train = df_train.drop('quality', axis=1)\n",
    "X_valid = df_valid.drop('quality', axis=1)\n",
    "y_train = df_train['quality']\n",
    "y_valid = df_valid['quality']"
   ]
  },
  {
   "cell_type": "code",
   "execution_count": 12,
   "metadata": {},
   "outputs": [],
   "source": [
    "# get number of features\n",
    "\n",
    "features_size = [df_train.shape[1] - 1]"
   ]
  },
  {
   "cell_type": "code",
   "execution_count": 13,
   "metadata": {},
   "outputs": [],
   "source": [
    "# building a 3 layer network with 512 neurons each\n",
    "\n",
    "model = keras.Sequential([\n",
    "    layers.Dense(512, input_shape=features_size),\n",
    "    layers.Activation('relu'),\n",
    "    \n",
    "    layers.Dense(512),\n",
    "    layers.Activation('relu'),\n",
    "    \n",
    "    layers.Dense(512),\n",
    "    layers.Activation('relu'),\n",
    "\n",
    "    layers.Dense(1)\n",
    "])"
   ]
  },
  {
   "cell_type": "code",
   "execution_count": 14,
   "metadata": {},
   "outputs": [],
   "source": [
    "# compile the model and set optimizer and loss\n",
    "\n",
    "model.compile(\n",
    "    optimizer='adam',\n",
    "    loss='mae'\n",
    ")"
   ]
  },
  {
   "cell_type": "code",
   "execution_count": 15,
   "metadata": {},
   "outputs": [
    {
     "name": "stdout",
     "output_type": "stream",
     "text": [
      "Epoch 1/10\n",
      "5/5 [==============================] - 2s 107ms/step - loss: 4.9476 - val_loss: 2.6326\n",
      "Epoch 2/10\n",
      "5/5 [==============================] - 0s 41ms/step - loss: 1.9121 - val_loss: 1.2907\n",
      "Epoch 3/10\n",
      "5/5 [==============================] - 0s 37ms/step - loss: 1.1459 - val_loss: 0.8580\n",
      "Epoch 4/10\n",
      "5/5 [==============================] - 0s 39ms/step - loss: 0.8505 - val_loss: 0.8709\n",
      "Epoch 5/10\n",
      "5/5 [==============================] - 0s 35ms/step - loss: 0.7218 - val_loss: 0.6179\n",
      "Epoch 6/10\n",
      "5/5 [==============================] - 0s 37ms/step - loss: 0.6267 - val_loss: 0.5761\n",
      "Epoch 7/10\n",
      "5/5 [==============================] - 0s 63ms/step - loss: 0.6018 - val_loss: 0.5574\n",
      "Epoch 8/10\n",
      "5/5 [==============================] - 0s 34ms/step - loss: 0.5707 - val_loss: 0.6260\n",
      "Epoch 9/10\n",
      "5/5 [==============================] - 0s 35ms/step - loss: 0.5910 - val_loss: 0.5985\n",
      "Epoch 10/10\n",
      "5/5 [==============================] - 0s 37ms/step - loss: 0.5589 - val_loss: 0.5313\n"
     ]
    }
   ],
   "source": [
    "# set bactch and epoch sizes and then start training\n",
    "\n",
    "history = model.fit(\n",
    "    X_train, y_train,\n",
    "    validation_data=(X_valid, y_valid),\n",
    "    batch_size=256,\n",
    "    epochs=10\n",
    ")"
   ]
  },
  {
   "cell_type": "code",
   "execution_count": 17,
   "metadata": {},
   "outputs": [
    {
     "data": {
      "text/plain": [
       "<Axes: >"
      ]
     },
     "execution_count": 17,
     "metadata": {},
     "output_type": "execute_result"
    },
    {
     "data": {
      "image/png": "[encoded data removed]",
      "text/plain": [
       "<Figure size 640x480 with 1 Axes>"
      ]
     },
     "metadata": {},
     "output_type": "display_data"
    }
   ],
   "source": [
    "# view the loss using a plot\n",
    "\n",
    "# turning the training history in to a pandas dataframe\n",
    "history_df = pd.DataFrame(history.history)\n",
    "history_df['loss'].plot()"
   ]
  },
  {
   "cell_type": "code",
   "execution_count": null,
   "metadata": {},
   "outputs": [],
   "source": []
  }
 ],
 "metadata": {
  "kernelspec": {
   "display_name": ".venv",
   "language": "python",
   "name": "python3"
  },
  "language_info": {
   "codemirror_mode": {
    "name": "ipython",
    "version": 3
   },
   "file_extension": ".py",
   "mimetype": "text/x-python",
   "name": "python",
   "nbconvert_exporter": "python",
   "pygments_lexer": "ipython3",
   "version": "3.11.7"
  }
 },
 "nbformat": 4,
 "nbformat_minor": 2
}
