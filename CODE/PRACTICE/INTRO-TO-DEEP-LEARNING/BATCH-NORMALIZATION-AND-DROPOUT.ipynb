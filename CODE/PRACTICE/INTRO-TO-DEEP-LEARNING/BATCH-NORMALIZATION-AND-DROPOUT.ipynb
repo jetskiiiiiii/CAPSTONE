{
 "cells": [
  {
   "cell_type": "markdown",
   "metadata": {},
   "source": [
    "# Dropout\n",
    "\n",
    "Overfitting relies on memorizing specific, non-generalizable patterns. It learns too specific a combination of weights.\n",
    "\n",
    "*Dropout* randomly takes away a fraction of a layer's inputs, forcing the model to learn a more general pattern.\n",
    "\n",
    "This creates a number of smaller networks that may each make mistakes but are generally right about the same things."
   ]
  },
  {
   "cell_type": "code",
   "execution_count": 1,
   "metadata": {},
   "outputs": [
    {
     "name": "stderr",
     "output_type": "stream",
     "text": [
      "2024-01-30 01:33:05.283983: I tensorflow/core/platform/cpu_feature_guard.cc:182] This TensorFlow binary is optimized to use available CPU instructions in performance-critical operations.\n",
      "To enable the following instructions: AVX2 AVX512F AVX512_VNNI FMA, in other operations, rebuild TensorFlow with the appropriate compiler flags.\n"
     ]
    }
   ],
   "source": [
    "import tensorflow as tf\n",
    "from tensorflow import keras\n",
    "from tensorflow.keras import layers\n",
    "from tensorflow.keras.callbacks import EarlyStopping\n",
    "import pandas as pd"
   ]
  },
  {
   "cell_type": "code",
   "execution_count": 2,
   "metadata": {},
   "outputs": [],
   "source": [
    "# implementing a dropout layer\n",
    "\n",
    "model = keras.Sequential([\n",
    "    layers.Dense(512, activation='relu', input_shape=[3]),\n",
    "    layers.Dropout(rate=0.3), # dropout layers goes before the layer it will be implemented on\n",
    "    layers.Dense(512, activation='relu'),\n",
    "    layers.Dense(1)\n",
    "])"
   ]
  },
  {
   "cell_type": "markdown",
   "metadata": {},
   "source": [
    "# Batch Normalization\n",
    "\n",
    "*Batch normalization (\"batchnorm\")* helps correct training that is slow or unstable.\n",
    "\n",
    "<br/>\n",
    "\n",
    "It's good to put all data (pre-processing) on the same scale - perhaps with scikit-learn's StandardScaler or MinMaxScaler. This is because SGD will shift the weights in proportion to how large the activation is. Therefore, having data on the same scale normalizes the activations.\n",
    "\n",
    "However, it's also a good idea to normalize data inside the model. The batch normalization layer does this.\n",
    "\n",
    "<br/>\n",
    "\n",
    "Batch normalization layers look at each batch as they come in. It first normalizes the batch with its own mean and standard deviation. It then puts the data on a new scale. \n",
    "\n",
    "<br/>\n",
    "\n",
    "Batchnorm usually aids the optimization process. Models with batchnorm tend to need fewer epochs to train."
   ]
  },
  {
   "cell_type": "code",
   "execution_count": 3,
   "metadata": {},
   "outputs": [],
   "source": [
    "# the batchnorm layer can come in anywhere\n",
    "\n",
    "model_one = keras.Sequential([\n",
    "    layers.BatchNormalization(), # adding as a first layer as a kind of 'adaptive preprocessor' in place of scikit-learn's StandardScalar\n",
    "    layers.Dense(512, input_shape=[3]),\n",
    "    layers.Dense(1)\n",
    "])\n",
    "\n",
    "model_two = keras.Sequential([\n",
    "    layers.Dense(512, input_shape=[3]),\n",
    "    layers.BatchNormalization(), # adding in between layer and activation layer\n",
    "    layers.Activation('relu'),\n",
    "    layers.Dense(1)\n",
    "])\n",
    "\n",
    "model_three = keras.Sequential([\n",
    "    layers.Dense(512, activation='relu', input_shape=[3]),\n",
    "    layers.BatchNormalization(), # adding after a layer\n",
    "    layers.Dense(1)\n",
    "])"
   ]
  },
  {
   "cell_type": "markdown",
   "metadata": {},
   "source": [
    "# Practice"
   ]
  },
  {
   "cell_type": "code",
   "execution_count": 4,
   "metadata": {},
   "outputs": [],
   "source": [
    "# import data\n",
    "red_wine = pd.read_csv('./red-wine.csv')"
   ]
  },
  {
   "cell_type": "code",
   "execution_count": 5,
   "metadata": {},
   "outputs": [],
   "source": [
    "# split into train and valid\n",
    "df_train = red_wine.sample(frac=0.7, random_state=0)\n",
    "df_valid = red_wine.drop(df_train.index)"
   ]
  },
  {
   "cell_type": "code",
   "execution_count": 6,
   "metadata": {},
   "outputs": [],
   "source": [
    "# normalize\n",
    "# min_ = df_train.min(axis=0)\n",
    "# max_ = df_train.max(axis=0)\n",
    "# df_train_normal = (df_train - min_) / (min_ + max_)\n",
    "# df_valid_normal = (df_valid - min_) / (min_ + max_)"
   ]
  },
  {
   "cell_type": "code",
   "execution_count": 7,
   "metadata": {},
   "outputs": [],
   "source": [
    "# split features and target\n",
    "X_train = df_train.drop('quality', axis=1)\n",
    "X_valid = df_valid.drop('quality', axis=1)\n",
    "y_train = df_train['quality']\n",
    "y_valid = df_valid['quality']"
   ]
  },
  {
   "cell_type": "code",
   "execution_count": 8,
   "metadata": {},
   "outputs": [],
   "source": [
    "# create the model\n",
    "features_size = [df_train.shape[1] - 1]\n",
    "\n",
    "model = keras.Sequential([\n",
    "    layers.BatchNormalization(),\n",
    "    layers.Dense(512, activation='relu', input_shape=features_size),\n",
    "    layers.Dense(512),\n",
    "    layers.BatchNormalization(),\n",
    "    layers.Activation('relu'),\n",
    "    layers.Dense(512, activation='relu'),\n",
    "    layers.Dense(1)\n",
    "])"
   ]
  },
  {
   "cell_type": "code",
   "execution_count": 9,
   "metadata": {},
   "outputs": [],
   "source": [
    "# building a model with dropout and batchnorm\n",
    "model_two = keras.Sequential([\n",
    "    layers.Dense(1024, activation='relu', input_shape=[11]),\n",
    "    layers.Dropout(0.3),\n",
    "    layers.BatchNormalization(),\n",
    "    layers.Dense(1024, activation='relu'),\n",
    "    layers.Dropout(0.3),\n",
    "    layers.BatchNormalization(),\n",
    "    layers.Dense(1024, activation='relu'),\n",
    "    layers.Dropout(0.3),\n",
    "    layers.BatchNormalization(),\n",
    "    layers.Dense(1),\n",
    "])"
   ]
  },
  {
   "cell_type": "code",
   "execution_count": 10,
   "metadata": {},
   "outputs": [],
   "source": [
    "# create early stopping callback\n",
    "early_stop = EarlyStopping(\n",
    "    min_delta = 0.001,\n",
    "    patience = 20,\n",
    "    restore_best_weights = True\n",
    ")"
   ]
  },
  {
   "cell_type": "code",
   "execution_count": 11,
   "metadata": {},
   "outputs": [],
   "source": [
    "# compile the model (optimizer and loss)\n",
    "model.compile(\n",
    "    optimizer = 'adam',\n",
    "    loss = 'mae'\n",
    ")"
   ]
  },
  {
   "cell_type": "code",
   "execution_count": 12,
   "metadata": {},
   "outputs": [
    {
     "name": "stdout",
     "output_type": "stream",
     "text": [
      "Minimum validation loss: 0.4800802171230316\n"
     ]
    },
    {
     "data": {
      "image/png": "[encoded data removed]",
      "text/plain": [
       "<Figure size 640x480 with 1 Axes>"
      ]
     },
     "metadata": {},
     "output_type": "display_data"
    }
   ],
   "source": [
    "# train the model (callback)\n",
    "history = model.fit(\n",
    "    X_train, y_train,\n",
    "    validation_data = [X_valid, y_valid],\n",
    "    batch_size = 20,\n",
    "    epochs = 500,\n",
    "    callbacks = [early_stop],\n",
    "    verbose = 0\n",
    ")\n",
    "\n",
    "history_df = pd.DataFrame(history.history)\n",
    "history_df.loc[:, ['loss', 'val_loss']].plot()\n",
    "print(f\"Minimum validation loss: {history_df['val_loss'].min()}\")"
   ]
  },
  {
   "cell_type": "code",
   "execution_count": null,
   "metadata": {},
   "outputs": [],
   "source": [
    "i"
   ]
  }
 ],
 "metadata": {
  "kernelspec": {
   "display_name": ".venv",
   "language": "python",
   "name": "python3"
  },
  "language_info": {
   "codemirror_mode": {
    "name": "ipython",
    "version": 3
   },
   "file_extension": ".py",
   "mimetype": "text/x-python",
   "name": "python",
   "nbconvert_exporter": "python",
   "pygments_lexer": "ipython3",
   "version": "3.11.7"
  }
 },
 "nbformat": 4,
 "nbformat_minor": 2
}
