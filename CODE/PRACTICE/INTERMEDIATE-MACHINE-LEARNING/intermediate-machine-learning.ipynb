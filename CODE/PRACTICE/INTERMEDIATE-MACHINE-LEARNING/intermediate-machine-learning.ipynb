{
 "cells": [
  {
   "cell_type": "code",
   "execution_count": 1,
   "metadata": {},
   "outputs": [],
   "source": [
    "import pandas as pd\n",
    "from sklearn.model_selection import train_test_split\n",
    "from sklearn.ensemble import RandomForestRegressor\n",
    "from sklearn.metrics import mean_absolute_error"
   ]
  },
  {
   "cell_type": "markdown",
   "metadata": {},
   "source": [
    "# Review"
   ]
  },
  {
   "cell_type": "code",
   "execution_count": 10,
   "metadata": {},
   "outputs": [],
   "source": [
    "# Set up the data\n",
    "melbourne_file_path = '../INTRO-TO-MACHINE-LEARNING/melb_data.csv'\n",
    "melbourne_housing_data = pd.read_csv(melbourne_file_path)\n",
    "melbourne_housing_data = melbourne_housing_data.dropna(axis=0)\n",
    "y = melbourne_housing_data.Price\n",
    "melbourne_features = ['Rooms', 'Bathroom', 'Landsize', 'BuildingArea', \n",
    "                        'YearBuilt', 'Lattitude', 'Longtitude']\n",
    "X = melbourne_housing_data[melbourne_features]"
   ]
  },
  {
   "cell_type": "code",
   "execution_count": 11,
   "metadata": {},
   "outputs": [],
   "source": [
    "# Split the model\n",
    "X_train, X_val, y_train, y_val = train_test_split(X, y, random_state=1)"
   ]
  },
  {
   "cell_type": "code",
   "execution_count": 12,
   "metadata": {},
   "outputs": [],
   "source": [
    "melbourne_housing_random_forest_model  = RandomForestRegressor(n_estimators=50, random_state=1)"
   ]
  },
  {
   "cell_type": "code",
   "execution_count": 14,
   "metadata": {},
   "outputs": [
    {
     "data": {
      "text/plain": [
       "174001.4856509576"
      ]
     },
     "execution_count": 14,
     "metadata": {},
     "output_type": "execute_result"
    }
   ],
   "source": [
    "# Function to get model score\n",
    "def get_model_score(model, X_t=X_train, X_v=X_val, y_t=y_train, y_v=y_val):\n",
    "    model.fit(X_t, y_t)\n",
    "    predictions = model.predict(X_v)\n",
    "    mae_score = mean_absolute_error(y_v, predictions)\n",
    "    return mae_score\n",
    "\n",
    "melbourne_housing_random_forest_model_score = get_model_score(melbourne_housing_random_forest_model)\n",
    "melbourne_housing_random_forest_model_score"
   ]
  }
 ],
 "metadata": {
  "kernelspec": {
   "display_name": ".venv",
   "language": "python",
   "name": "python3"
  },
  "language_info": {
   "codemirror_mode": {
    "name": "ipython",
    "version": 3
   },
   "file_extension": ".py",
   "mimetype": "text/x-python",
   "name": "python",
   "nbconvert_exporter": "python",
   "pygments_lexer": "ipython3",
   "version": "3.10.6"
  },
  "orig_nbformat": 4
 },
 "nbformat": 4,
 "nbformat_minor": 2
}
