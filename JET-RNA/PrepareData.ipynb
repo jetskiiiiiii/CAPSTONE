{
 "cells": [
  {
   "cell_type": "code",
   "execution_count": 1,
   "metadata": {},
   "outputs": [],
   "source": [
    "import os\n",
    "import pandas as pd\n",
    "import numpy as np\n",
    "import re\n",
    "import dill"
   ]
  },
  {
   "cell_type": "markdown",
   "metadata": {},
   "source": [
    "# Notes:\n",
    "\n",
    "- try re-saving the one-hot-sequence and pairing matricies into csv with pd.to_pickle()"
   ]
  },
  {
   "cell_type": "markdown",
   "metadata": {},
   "source": [
    "# Turning bpRNA dataset into one big csv (don't run this cell!)"
   ]
  },
  {
   "cell_type": "code",
   "execution_count": 2,
   "metadata": {},
   "outputs": [
    {
     "data": {
      "text/html": [
       "<div>\n",
       "<style scoped>\n",
       "    .dataframe tbody tr th:only-of-type {\n",
       "        vertical-align: middle;\n",
       "    }\n",
       "\n",
       "    .dataframe tbody tr th {\n",
       "        vertical-align: top;\n",
       "    }\n",
       "\n",
       "    .dataframe thead th {\n",
       "        text-align: right;\n",
       "    }\n",
       "</style>\n",
       "<table border=\"1\" class=\"dataframe\">\n",
       "  <thead>\n",
       "    <tr style=\"text-align: right;\">\n",
       "      <th></th>\n",
       "      <th>name</th>\n",
       "      <th>length</th>\n",
       "      <th>sequence</th>\n",
       "      <th>pairings</th>\n",
       "      <th>structure</th>\n",
       "      <th>pseudoknot</th>\n",
       "    </tr>\n",
       "  </thead>\n",
       "  <tbody>\n",
       "    <tr>\n",
       "      <th>0</th>\n",
       "      <td>bpRNA_RFAM_30074</td>\n",
       "      <td>38</td>\n",
       "      <td>CAGCAGACUGGAGGCUGUAAUUCAGGUGCGGUAGCUAU</td>\n",
       "      <td>.......(((((........))))).............</td>\n",
       "      <td>EEEEEEESSSSSHHHHHHHHSSSSSEEEEEEEEEEEEE</td>\n",
       "      <td>NNNNNNNNNNNNNNNNNNNNNNNNNNNNNNNNNNNNNN</td>\n",
       "    </tr>\n",
       "    <tr>\n",
       "      <th>1</th>\n",
       "      <td>bpRNA_RFAM_17909</td>\n",
       "      <td>85</td>\n",
       "      <td>UGCAUCUGUGAUGAAAAUUUGGCUCCCUCUACUGAAACAAAUGAGG...</td>\n",
       "      <td>.(((((...........................................</td>\n",
       "      <td>ESSSSSHHHHHHHHHHHHHHHHHHHHHHHHHHHHHHHHHHHHHHHH...</td>\n",
       "      <td>NNNNNNNNNNNNNNNNNNNNNNNNNNNNNNNNNNNNNNNNNNNNNN...</td>\n",
       "    </tr>\n",
       "    <tr>\n",
       "      <th>2</th>\n",
       "      <td>bpRNA_RFAM_10080</td>\n",
       "      <td>70</td>\n",
       "      <td>UACAAAUGAAGAGGCUAUUUGUUCUGAAGUAUCUAAAUCCAUUCAU...</td>\n",
       "      <td>.((((............................................</td>\n",
       "      <td>ESSSSHHHHHHHHHHHHHHHHHHHHHHHHHHHHHHHHHHHHHHHHH...</td>\n",
       "      <td>NNNNNNNNNNNNNNNNNNNNNNNNNNNNNNNNNNNNNNNNNNNNNN...</td>\n",
       "    </tr>\n",
       "    <tr>\n",
       "      <th>3</th>\n",
       "      <td>bpRNA_CRW_3732</td>\n",
       "      <td>478</td>\n",
       "      <td>GAGUUUGAUCCUGGCUCAGGACGAACGCUGGCGGCGUGCUUAACAC...</td>\n",
       "      <td>(((((.......))))).............(((((((((....(((...</td>\n",
       "      <td>SSSSSHHHHHHHSSSSSXXXXXXXXXXXXXSSSSSSSSSIIIISSS...</td>\n",
       "      <td>NNNNNNNNNNNNNNNNNNNNNNNNNNNNNNNNNNNNNNNNNNNNNN...</td>\n",
       "    </tr>\n",
       "    <tr>\n",
       "      <th>4</th>\n",
       "      <td>bpRNA_RFAM_10379</td>\n",
       "      <td>86</td>\n",
       "      <td>GGUCUGGGUGAUGAACUGGAAGAAGUUAUUGUUGAGAAAACGAAAC...</td>\n",
       "      <td>.(.((((((((..........((.(((((((((................</td>\n",
       "      <td>ESISSSSSSSSIIIIIIIIIISSISSSSSSSSSHHHHHHHHHHHHH...</td>\n",
       "      <td>NNNNNNNNNNNNNNNNNNNNNNNNNNNNNNNNNNNNNNNNNNNNNN...</td>\n",
       "    </tr>\n",
       "  </tbody>\n",
       "</table>\n",
       "</div>"
      ],
      "text/plain": [
       "               name length                                           sequence  \\\n",
       "0  bpRNA_RFAM_30074     38             CAGCAGACUGGAGGCUGUAAUUCAGGUGCGGUAGCUAU   \n",
       "1  bpRNA_RFAM_17909     85  UGCAUCUGUGAUGAAAAUUUGGCUCCCUCUACUGAAACAAAUGAGG...   \n",
       "2  bpRNA_RFAM_10080     70  UACAAAUGAAGAGGCUAUUUGUUCUGAAGUAUCUAAAUCCAUUCAU...   \n",
       "3    bpRNA_CRW_3732    478  GAGUUUGAUCCUGGCUCAGGACGAACGCUGGCGGCGUGCUUAACAC...   \n",
       "4  bpRNA_RFAM_10379     86  GGUCUGGGUGAUGAACUGGAAGAAGUUAUUGUUGAGAAAACGAAAC...   \n",
       "\n",
       "                                            pairings  \\\n",
       "0             .......(((((........))))).............   \n",
       "1  .(((((...........................................   \n",
       "2  .((((............................................   \n",
       "3  (((((.......))))).............(((((((((....(((...   \n",
       "4  .(.((((((((..........((.(((((((((................   \n",
       "\n",
       "                                           structure  \\\n",
       "0             EEEEEEESSSSSHHHHHHHHSSSSSEEEEEEEEEEEEE   \n",
       "1  ESSSSSHHHHHHHHHHHHHHHHHHHHHHHHHHHHHHHHHHHHHHHH...   \n",
       "2  ESSSSHHHHHHHHHHHHHHHHHHHHHHHHHHHHHHHHHHHHHHHHH...   \n",
       "3  SSSSSHHHHHHHSSSSSXXXXXXXXXXXXXSSSSSSSSSIIIISSS...   \n",
       "4  ESISSSSSSSSIIIIIIIIIISSISSSSSSSSSHHHHHHHHHHHHH...   \n",
       "\n",
       "                                          pseudoknot  \n",
       "0             NNNNNNNNNNNNNNNNNNNNNNNNNNNNNNNNNNNNNN  \n",
       "1  NNNNNNNNNNNNNNNNNNNNNNNNNNNNNNNNNNNNNNNNNNNNNN...  \n",
       "2  NNNNNNNNNNNNNNNNNNNNNNNNNNNNNNNNNNNNNNNNNNNNNN...  \n",
       "3  NNNNNNNNNNNNNNNNNNNNNNNNNNNNNNNNNNNNNNNNNNNNNN...  \n",
       "4  NNNNNNNNNNNNNNNNNNNNNNNNNNNNNNNNNNNNNNNNNNNNNN...  "
      ]
     },
     "execution_count": 2,
     "metadata": {},
     "output_type": "execute_result"
    }
   ],
   "source": [
    "bprna_df = pd.DataFrame(columns=[\"name\", \"length\", \"sequence\", \"pairings\"])\n",
    "\n",
    "folder_path = \"../../DATASETS/bpRNA_1m_90/bpRNA_1m_90_STFILES/\"\n",
    "files = [file for file in os.listdir(folder_path) if re.match(r\"^bp.*$\", file)]\n",
    "\n",
    "for file in files:\n",
    "    filename = os.path.join(folder_path, file)\n",
    "    data_df = bprna.get_data_from_bprna(filename)\n",
    "    bprna_df = pd.concat([bprna_df, data_df], ignore_index=True)\n",
    "    \n",
    "bprna_df.head()"
   ]
  },
  {
   "cell_type": "markdown",
   "metadata": {},
   "source": [
    "## Putting sequences and structures in separate csv files (not converted to one hot or matrix form)"
   ]
  },
  {
   "cell_type": "code",
   "execution_count": 5,
   "metadata": {},
   "outputs": [
    {
     "ename": "NameError",
     "evalue": "name 'bprna_df' is not defined",
     "output_type": "error",
     "traceback": [
      "\u001b[0;31m---------------------------------------------------------------------------\u001b[0m",
      "\u001b[0;31mNameError\u001b[0m                                 Traceback (most recent call last)",
      "Cell \u001b[0;32mIn[5], line 2\u001b[0m\n\u001b[1;32m      1\u001b[0m \u001b[38;5;66;03m# Create CSV\u001b[39;00m\n\u001b[0;32m----> 2\u001b[0m \u001b[43mbprna_df\u001b[49m\u001b[38;5;241m.\u001b[39mto_csv(\u001b[38;5;124m\"\u001b[39m\u001b[38;5;124mbprna_df.csv\u001b[39m\u001b[38;5;124m\"\u001b[39m, index\u001b[38;5;241m=\u001b[39m\u001b[38;5;28;01mFalse\u001b[39;00m)\n",
      "\u001b[0;31mNameError\u001b[0m: name 'bprna_df' is not defined"
     ]
    }
   ],
   "source": [
    "# Create CSV\n",
    "bprna_df.to_csv(\"bprna_df.csv\", index=False)"
   ]
  },
  {
   "cell_type": "code",
   "execution_count": 3,
   "metadata": {},
   "outputs": [],
   "source": [
    "sequence_df = pd.DataFrame({'name': bprna_df['name'], 'sequence': bprna_df['sequence']})"
   ]
  },
  {
   "cell_type": "code",
   "execution_count": 6,
   "metadata": {},
   "outputs": [],
   "source": [
    "pairings_df = pd.DataFrame({'name': bprna_df['name'], 'pairings': bprna_df['pairings']})"
   ]
  },
  {
   "cell_type": "code",
   "execution_count": 4,
   "metadata": {},
   "outputs": [],
   "source": [
    "sequence_df.to_csv('./bprnra_sequences.csv')"
   ]
  },
  {
   "cell_type": "code",
   "execution_count": 7,
   "metadata": {},
   "outputs": [],
   "source": [
    "pairings_df.to_csv('./bprnra_pairings.csv')"
   ]
  },
  {
   "cell_type": "markdown",
   "metadata": {},
   "source": [
    "# Preparing pre-processed dataset"
   ]
  },
  {
   "cell_type": "code",
   "execution_count": null,
   "metadata": {},
   "outputs": [],
   "source": [
    "\"\"\"\n",
    "Example .st file:\n",
    "\n",
    "#Name: bpRNA_CRW_84\n",
    "#Length:  573 \n",
    "#PageNumber: 2\n",
    "#Warning: Structure contains linked PK-segments of same sizes 1 and 1. Using PK brackets for the more 5' segment\n",
    "GAGCGGCGAACGGGUGAGUAACACGUGAGUANCCUGCCCUAGGCUUUGGGAUAACCCUCGGAAACGGGGGCUAAUACCGGAUAUUCAUUCUCGGCGGCAUCGUUGGGGGUGGAAAGUUUUUCGGCUUGGGAUGGGCUCGCGGCCUAUCAGCUUGUUGGUGGGGUGAUGGCCUACCAAGGCGACGACGGGUAGCCGGCCUGAGAGGGCGACCGGCCACACUGGGACUGAGACACGGCCCAGACUCCUACGGGAGGCAGCAGUGGGGAAUAUUGCACAAUGGGCGGAAGCCUGAUGCAGCGACGCCGCGUGAGGGAUGAAGGCCUUCGGGUUGUAAACCUCUUUCGACAGGGACGAAGCGCAAGUGACGGUACCUGGAGAAGAAGCGCCGGCCAACUACGUGCCAGCAGCCCGCGGUAAGACGUAGGGCGCGAGCGUUGUCCGGAUUUAUUGGGCGUAAAGAGCUCCGUAGGCGGCUUUGUUGCGNCAGCUGUGAAAACCCCGCAGCUCAACUGUGGGCUUUGCAGCUUGAUACGGGCAGGCCUUGAGNUUCGGUAGGGGGAGACUGGAAUUCCU\n",
    ".............(((......((((((((..((...(((((((.((((....(((((((....))))))).....)))).....(((((((.(((....))).)))))))...(......).)))))))..))))))))))(((..(.(((..((((((((.......))))))))))).....))))..((((((((....))))...))))))).((((((..........)))))).((((....))))................(.(((...(((((....))))).))))............((((......((((....)))).....)))).[.(((((((...(..((....))..)....))))))..])..((((([[[...(((((.....((.]]].)).......))))))))))...........................................((((.(((.(((((((((((....(.((((((.....)))))))...)))))).)))..)))))))).)................................\n",
    "EEEEEEEEEEEEESSSMMMMMMSSSSSSSSBBSSIIISSSSSSSMSSSSIIIISSSSSSSHHHHSSSSSSSIIIIISSSSMMMMMSSSSSSSISSSHHHHSSSISSSSSSSMMMSHHHHHHSMSSSSSSSIISSSSSSSSSSSSSBBSISSSBBSSSSSSSSHHHHHHHSSSSSSSSSSSIIIIISSSSMMSSSSSSSSHHHHSSSSBBBSSSSSSSXSSSSSSHHHHHHHHHHSSSSSSXSSSSHHHHSSSSXXXXXXXXXXXXXXXXSBSSSIIISSSSSHHHHSSSSSISSSSXXXXXXXXXXXXSSSSIIIIIISSSSHHHHSSSSIIIIISSSSXXXSSSSSSSIIISIISSHHHHSSIISIIIISSSSSSBBBSXXSSSSSBBBBBBSSSSSIIIIISSHHHHHSSIIIIIIISSSSSSSSSSXXXXXXXXXXXXXXXXXXXXXXXXXXXXXXXXXXXXXXXXXXXSSSSBSSSBSSSSSSSSSSSIIIISBSSSSSSHHHHHSSSSSSSIIISSSSSSBSSSBBSSSSSSSSBSEEEEEEEEEEEEEEEEEEEEEEEEEEEEEEEE\n",
    "NNNNNNNNNNNNNNNNNNNNNNNNNNNNNNNNNNNNNNNNNNNNNNNNNNNNNNNNNNNNNNNNNNNNNNNNNNNNNNNNNNNNNNNNNNNNNNNNNNNNNNNNNNNNNNNNNNNNNNNNNNNNNNNNNNNNNNNNNNNNNNNNNNNNNNNNNNNNNNNNNNNNNNNNNNNNNNNNNNNNNNNNNNNNNNNNNNNNNNNNNNNNNNNNNNNNNNNNNNNNNNNNNNNNNNNNNNNNNNNNNNNNNNNNNNNNNNNNNNNNNNNNNNNNNNNNNNNNNNNNNNNNNNNNNNNNNNNNNNNNNNNNNNNNNNNNNNNNNNNNNNNNNNNNNNNNNNNNNNNNKNNNNNNNNNNNNNNNNNNNNNNNNNNNNNNNNNNNNNKNNNNNNNNKKKNNNNNNNNNNNNNNNNKKKNNNNNNNNNNNNNNNNNNNNNNNNNNNNNNNNNNNNNNNNNNNNNNNNNNNNNNNNNNNNNNNNNNNNNNNNNNNNNNNNNNNNNNNNNNNNNNNNNNNNNNNNNNNNNNNNNNNNNNNNNNNNNNNNNNNNNNNNNNNNNNNNNNNNNNNNNNNNNNNNNNNN\n",
    "S1 14..16 \"GUG\" 215..217 \"CAC\"\n",
    "S2 23..30 \"ACGUGAGU\" 135..142 \"GCUCGCGG\"\n",
    "S3 33..34 \"CC\" 133..134 \"GG\"\n",
    "S4 38..44 \"CCUAGGC\" 124..130 \"GCUUGGG\"\n",
    "S5 46..49 \"UUGG\" 77..80 \"CCGG\"\n",
    "S6 54..60 \"ACCCUCG\" 65..71 \"CGGGGGC\"\n",
    "S7 86..92 \"CAUUCUC\" 105..111 \"GGGGGUG\"\n",
    "S8 94..96 \"GCG\" 101..103 \"CGU\"\n",
    "S9 115..115 \"A\" 122..122 \"C\"\n",
    "S10 143..145 \"CCU\" 187..189 \"GGG\"\n",
    "S11 148..148 \"C\" 186..186 \"C\"\n",
    "S12 150..152 \"GCU\" 178..180 \"GGC\"\n",
    "S13 155..162 \"UUGGUGGG\" 170..177 \"CCUACCAA\"\n",
    "S14 192..195 \"GCCG\" 211..214 \"CGGC\"\n",
    "S15 196..199 \"GCCU\" 204..207 \"GGGC\"\n",
    "S16 219..224 \"CUGGGA\" 235..240 \"GCCCAG\"\n",
    "S17 242..245 \"CUCC\" 250..253 \"GGAG\"\n",
    "S18 270..270 \"U\" 296..296 \"A\"\n",
    "S19 272..274 \"GCA\" 293..295 \"UGC\"\n",
    "S20 278..282 \"UGGGC\" 287..291 \"GCCUG\"\n",
    "S21 309..312 \"GAGG\" 336..339 \"CCUC\"\n",
    "S22 319..322 \"GGCC\" 327..330 \"GGUU\"\n",
    "S23 343..343 \"C\" 380..380 \"G\"\n",
    "S24 344..349 \"GACAGG\" 371..376 \"CCUGGA\"\n",
    "S25 353..353 \"G\" 366..366 \"C\"\n",
    "S26 356..357 \"GC\" 362..363 \"GU\"\n",
    "S27 383..387 \"GCGCC\" 425..429 \"GGCGC\"\n",
    "S28 394..398 \"CUACG\" 420..424 \"CGUAG\"\n",
    "S29 404..405 \"GC\" 411..412 \"GC\"\n",
    "S30 473..473 \"G\" 541..541 \"C\"\n",
    "S31 474..476 \"CUU\" 537..539 \"AGG\"\n",
    "S32 478..480 \"GUU\" 534..536 \"GGC\"\n",
    "S33 482..483 \"CG\" 532..533 \"CG\"\n",
    "S34 484..486 \"NCA\" 527..529 \"UGA\"\n",
    "S35 487..492 \"GCUGUG\" 520..525 \"UGCAGC\"\n",
    "S36 497..497 \"C\" 516..516 \"G\"\n",
    "S37 499..504 \"CCGCAG\" 510..515 \"CUGUGG\"\n",
    "H1 61..64 \"GAAA\" (60,65) G:C \n",
    "H2 97..100 \"GCAU\" (96,101) G:C \n",
    "H3 116..121 \"GUUUUU\" (115,122) A:C \n",
    "H4 163..169 \"GUGAUGG\" (162,170) G:C \n",
    "H5 200..203 \"GAGA\" (199,204) U:G \n",
    "H6 225..234 \"CUGAGACACG\" (224,235) A:G \n",
    "H7 246..249 \"UACG\" (245,250) C:G \n",
    "H8 283..286 \"GGAA\" (282,287) C:G \n",
    "H9 323..326 \"UUCG\" (322,327) C:G \n",
    "H10 358..361 \"GCAA\" (357,362) C:G \n",
    "H11 406..410 \"AGCCC\" (405,411) C:G PK{2}\n",
    "H12 505..509 \"CUCAA\" (504,510) G:C \n",
    "B1 31..32 \"AN\" (30,135) U:G (134,33) G:C \n",
    "B2 146..147 \"AU\" (145,187) U:G (186,148) C:C \n",
    "B3 153..154 \"UG\" (152,178) U:G (177,155) A:U \n",
    "B4 208..210 \"GAC\" (207,196) C:G (195,211) G:C \n",
    "B5 271..271 \"U\" (270,296) U:A (295,272) C:G \n",
    "B6 377..379 \"GAA\" (376,344) A:G (343,380) C:G PK{1}\n",
    "B7 388..393 \"GGCCAA\" (387,425) C:G (424,394) G:C PK{2}\n",
    "B8 477..477 \"U\" (476,537) U:A (536,478) C:G \n",
    "B9 481..481 \"G\" (480,534) U:G (533,482) G:C \n",
    "B10 498..498 \"C\" (497,516) C:G (515,499) G:C \n",
    "B11 526..526 \"U\" (525,487) C:G (486,527) A:U \n",
    "B12 530..531 \"UA\" (529,484) A:N (483,532) G:C \n",
    "B13 540..540 \"C\" (539,474) G:C (473,541) G:C \n",
    "I1.1 35..37 \"UGC\" (34,133) C:G \n",
    "I1.2 131..132 \"AU\" (130,38) G:C \n",
    "I2.1 50..53 \"GAUA\" (49,77) G:C \n",
    "I2.2 72..76 \"UAAUA\" (71,54) C:A \n",
    "I3.1 93..93 \"G\" (92,105) C:G \n",
    "I3.2 104..104 \"U\" (103,94) U:G \n",
    "I4.1 149..149 \"A\" (148,186) C:C \n",
    "I4.2 181..185 \"GACGA\" (180,150) C:G \n",
    "I5.1 275..277 \"CAA\" (274,293) A:U \n",
    "I5.2 292..292 \"A\" (291,278) G:U \n",
    "I6.1 313..318 \"GAUGAA\" (312,336) G:C \n",
    "I6.2 331..335 \"GUAAA\" (330,319) U:G \n",
    "I7.1 350..352 \"GAC\" (349,371) G:C \n",
    "I7.2 367..370 \"GGUA\" (366,353) C:G \n",
    "I8.1 354..355 \"AA\" (353,366) G:C \n",
    "I8.2 364..365 \"GA\" (363,356) U:G \n",
    "I9.1 399..403 \"UGCCA\" (398,420) G:C \n",
    "I9.2 413..419 \"GGUAAGA\" (412,404) C:G \n",
    "I10.1 493..496 \"AAAA\" (492,520) G:U \n",
    "I10.2 517..519 \"CUU\" (516,497) G:C \n",
    "M1.1 17..22 \"AGUAAC\" (16,215) G:C (142,23) G:A \n",
    "M1.2 143..142 \"\" (142,23) G:A (189,143) G:C \n",
    "M1.3 190..191 \"UA\" (189,143) G:C (214,192) C:G \n",
    "M1.4 215..214 \"\" (214,192) C:G (16,215) G:C \n",
    "M2.1 45..45 \"U\" (44,124) C:G (80,46) G:U \n",
    "M2.2 81..85 \"AUAUU\" (80,46) G:U (111,86) G:C \n",
    "M2.3 112..114 \"GAA\" (111,86) G:C (122,115) C:A \n",
    "M2.4 123..123 \"G\" (122,115) C:A (44,124) C:G \n",
    "X3 254..269 \"GCAGCAGUGGGGAAUA\" (253,242) G:C (296,270) A:U \n",
    "X4 297..308 \"GCGACGCCGCGU\" (296,270) A:U (339,309) C:G \n",
    "X5 340..342 \"UUU\" (339,309) C:G (380,343) G:C PK{1}\n",
    "X6 381..382 \"AA\" (380,343) G:C (429,383) C:G \n",
    "X7 430..472 \"GAGCGUUGUCCGGAUUUAUUGGGCGUAAAGAGCUCCGUAGGCG\" (429,383) C:G (541,473) C:G \n",
    "E1 1..13 \"GAGCGGCGAACGG\" \n",
    "E2 542..573 \"UUGAGNUUCGGUAGGGGGAGACUGGAAUUCCU\" \n",
    "PK1 1bp 341..341 379..379 X5 340..342 B6 377..379\n",
    "PK2 3bp 388..390 407..409 B7 388..393 H11 406..410\n",
    "PK1.1 341 U 379 A\n",
    "PK2.1 388 G 409 C\n",
    "PK2.2 389 G 408 C\n",
    "PK2.3 390 C 407 G\n",
    "NCBP1 23 A 142 G S2\n",
    "NCBP2 115 A 122 C S9\n",
    "NCBP3 484 N 529 A S34\n",
    "NCBP4 148 C 186 C S11\n",
    "NCBP5 345 A 375 G S24\n",
    "NCBP6 224 A 235 G S16\n",
    "NCBP7 344 G 376 A S24\n",
    "NCBP8 54 A 71 C S6\n",
    "segment1 3bp 14..16 GUG 215..217 CAC\n",
    "segment2 17bp 23..44 ACGUGAGUANCCUGCCCUAGGC 124..142 GCUUGGGAUGGGCUCGCGG\n",
    "segment3 11bp 46..60 UUGGGAUAACCCUCG 65..80 CGGGGGCUAAUACCGG\n",
    "segment4 10bp 86..96 CAUUCUCGGCG 101..111 CGUUGGGGGUG\n",
    "segment5 1bp 115..115 A 122..122 C\n",
    "segment6 15bp 143..162 CCUAUCAGCUUGUUGGUGGG 170..189 CCUACCAAGGCGACGACGGG\n",
    "segment7 8bp 192..199 GCCGGCCU 204..214 GGGCGACCGGC\n",
    "segment8 6bp 219..224 CUGGGA 235..240 GCCCAG\n",
    "segment9 4bp 242..245 CUCC 250..253 GGAG\n",
    "segment10 9bp 270..282 UUGCACAAUGGGC 287..296 GCCUGAUGCA\n",
    "segment11 8bp 309..322 GAGGGAUGAAGGCC 327..339 GGUUGUAAACCUC\n",
    "segment12 10bp 343..357 CGACAGGGACGAAGC 362..380 GUGACGGUACCUGGAGAAG\n",
    "segment13 12bp 383..405 GCGCCGGCCAACUACGUGCCAGC 411..429 GCGGUAAGACGUAGGGCGC\n",
    "segment14 25bp 473..504 GCUUUGUUGCGNCAGCUGUGAAAACCCCGCAG 510..541 CUGUGGGCUUUGCAGCUUGAUACGGGCAGGCC\n",
    "\"\"\""
   ]
  },
  {
   "cell_type": "code",
   "execution_count": 29,
   "metadata": {},
   "outputs": [
    {
     "name": "stdout",
     "output_type": "stream",
     "text": [
      "1291 9\n"
     ]
    }
   ],
   "source": [
    "import re\n",
    "\n",
    "processed_bprna_vl0_df = pd.DataFrame(columns=[\"name\", \"length\", \"sequence\", \"pairings\"])\n",
    "\n",
    "folder_path = \"/Volumes/VILLAIN/CAPSTONE/CODE/DATASETS/bpRNA_1m_90/bpRNA_SPOT_RNA_PREPROCESSED/VL0/\"\n",
    "files = [file for file in os.listdir(folder_path) if re.match(r\"^bp.*$\", file)]\n",
    "name, length, sequence, pairings = None, None, None, None\n",
    "n_count = 0\n",
    "n_status = False\n",
    "for file in files:\n",
    "    filename = os.path.join(folder_path, file)\n",
    "    with open(filename, \"r\") as f:\n",
    "        for line in f:\n",
    "            if \"#Name\" in line:\n",
    "                name = line.strip().split()[1]\n",
    "                continue\n",
    "            if \"#Length\" in line:\n",
    "                length = int(re.sub(\"\\D\", \"\", line.strip().split()[1]))\n",
    "                continue\n",
    "            if (\"#PageNumber\" in line) or (\"#Warning\" in line):\n",
    "                continue\n",
    "            if line[0] in \"AUCGaucg\":\n",
    "                sequence = line.strip()\n",
    "                continue\n",
    "            if line[0] in \".()[]<>\\{\\}\":\n",
    "                pairings = line.strip()\n",
    "                \n",
    "            if length != len(sequence):\n",
    "                n_count += 1\n",
    "            else:\n",
    "                row = {\"name\": [name], \"length\": [length], \"sequence\": [sequence], \"pairings\": [pairings]}\n",
    "                row_df = pd.DataFrame(row)\n",
    "                processed_bprna_vl0_df = pd.concat([processed_bprna_vl0_df, row_df], ignore_index=True)\n",
    "            \n",
    "            break\n",
    "\n",
    "    \n",
    "processed_bprna_vl0_df.head()\n",
    "print(len(processed_bprna_vl0_df), n_count)\n",
    "processed_bprna_vl0_df.to_csv(\"./spot_processed_bprna_vl0.csv\")"
   ]
  },
  {
   "cell_type": "code",
   "execution_count": 30,
   "metadata": {},
   "outputs": [
    {
     "name": "stdout",
     "output_type": "stream",
     "text": [
      "0\n"
     ]
    }
   ],
   "source": [
    "count = 0\n",
    "for i in range(len(processed_bprna_vl0_df)):\n",
    "  if processed_bprna_vl0_df[\"length\"].iloc[i] != len(processed_bprna_vl0_df[\"sequence\"].iloc[i]):\n",
    "    count += 1\n",
    "    print(processed_bprna_vl0_df[\"name\"].iloc[i], len(processed_bprna_vl0_df[\"sequence\"].iloc[i]), processed_bprna_vl0_df[\"length\"].iloc[i], processed_bprna_vl0_df[\"sequence\"].iloc[i])\n",
    "print(count)"
   ]
  },
  {
   "cell_type": "code",
   "execution_count": 39,
   "metadata": {},
   "outputs": [],
   "source": [
    "processed_bprna_tr0_df.to_csv(\"./processed_bprna_tr0_df.csv\")"
   ]
  },
  {
   "cell_type": "code",
   "execution_count": null,
   "metadata": {},
   "outputs": [],
   "source": []
  },
  {
   "cell_type": "code",
   "execution_count": null,
   "metadata": {},
   "outputs": [],
   "source": []
  },
  {
   "cell_type": "code",
   "execution_count": null,
   "metadata": {},
   "outputs": [],
   "source": []
  },
  {
   "cell_type": "code",
   "execution_count": null,
   "metadata": {},
   "outputs": [],
   "source": []
  },
  {
   "cell_type": "code",
   "execution_count": null,
   "metadata": {},
   "outputs": [],
   "source": []
  },
  {
   "cell_type": "code",
   "execution_count": null,
   "metadata": {},
   "outputs": [],
   "source": []
  },
  {
   "cell_type": "code",
   "execution_count": null,
   "metadata": {},
   "outputs": [],
   "source": []
  },
  {
   "cell_type": "code",
   "execution_count": null,
   "metadata": {},
   "outputs": [],
   "source": []
  },
  {
   "cell_type": "code",
   "execution_count": null,
   "metadata": {},
   "outputs": [],
   "source": []
  },
  {
   "cell_type": "code",
   "execution_count": null,
   "metadata": {},
   "outputs": [],
   "source": []
  },
  {
   "cell_type": "code",
   "execution_count": null,
   "metadata": {},
   "outputs": [],
   "source": []
  },
  {
   "cell_type": "code",
   "execution_count": null,
   "metadata": {},
   "outputs": [],
   "source": []
  },
  {
   "cell_type": "code",
   "execution_count": null,
   "metadata": {},
   "outputs": [],
   "source": []
  },
  {
   "cell_type": "code",
   "execution_count": null,
   "metadata": {},
   "outputs": [],
   "source": []
  },
  {
   "cell_type": "code",
   "execution_count": null,
   "metadata": {},
   "outputs": [],
   "source": []
  },
  {
   "cell_type": "code",
   "execution_count": null,
   "metadata": {},
   "outputs": [],
   "source": []
  },
  {
   "cell_type": "code",
   "execution_count": null,
   "metadata": {},
   "outputs": [],
   "source": []
  },
  {
   "cell_type": "code",
   "execution_count": null,
   "metadata": {},
   "outputs": [],
   "source": []
  },
  {
   "cell_type": "markdown",
   "metadata": {},
   "source": [
    "# Import the dataset (run this cell first)"
   ]
  },
  {
   "cell_type": "code",
   "execution_count": 3,
   "metadata": {},
   "outputs": [],
   "source": [
    "# Importing the entire bpRNA dataset\n",
    "bprna_df = pd.read_csv(\"./bprna_df.csv\")"
   ]
  },
  {
   "cell_type": "code",
   "execution_count": 4,
   "metadata": {},
   "outputs": [],
   "source": [
    "# Importing just the sequences (not one-hot)\n",
    "bprna_sequences_df = pd.read_csv(\"./bprnra_sequences.csv\")"
   ]
  },
  {
   "cell_type": "code",
   "execution_count": 5,
   "metadata": {},
   "outputs": [],
   "source": [
    "# Importing just the pairings (not matrix form)\n",
    "bprna_pairings_df = pd.read_csv(\"./bprnra_pairings.csv\")"
   ]
  },
  {
   "cell_type": "code",
   "execution_count": 6,
   "metadata": {},
   "outputs": [],
   "source": [
    "# Importing just the one-hot sequences\n",
    "bprna_one_hot_sequences_df = pd.read_pickle('./bprnra_one_hot_sequences.pkl')"
   ]
  },
  {
   "cell_type": "code",
   "execution_count": 7,
   "metadata": {},
   "outputs": [
    {
     "ename": "",
     "evalue": "",
     "output_type": "error",
     "traceback": [
      "\u001b[1;31mThe Kernel crashed while executing code in the the current cell or a previous cell. Please review the code in the cell(s) to identify a possible cause of the failure. Click <a href='https://aka.ms/vscodeJupyterKernelCrash'>here</a> for more info. View Jupyter <a href='command:jupyter.viewOutput'>log</a> for further details."
     ]
    }
   ],
   "source": [
    "# Importing just the pairing matricies\n",
    "with open(\"./bprnra_pairing_matricies.pkl\", \"rb\") as f:\n",
    "    bprna_pairing_matrices_df = dill.load(f) # pairing matrix"
   ]
  },
  {
   "cell_type": "markdown",
   "metadata": {},
   "source": [
    "# Storing the one-hot sequences in a separate file"
   ]
  },
  {
   "cell_type": "code",
   "execution_count": 11,
   "metadata": {},
   "outputs": [],
   "source": [
    "one_hot_sequences = []\n",
    "for sequence in bprna_df['sequence']:\n",
    "    one_hot_sequences.append(get_one_hot_sequence(sequence))"
   ]
  },
  {
   "cell_type": "code",
   "execution_count": 12,
   "metadata": {},
   "outputs": [],
   "source": [
    "one_hot_sequence_df = pd.DataFrame({'name': bprna_df['name'], 'one_hot_sequence': one_hot_sequences})"
   ]
  },
  {
   "cell_type": "code",
   "execution_count": 13,
   "metadata": {},
   "outputs": [
    {
     "data": {
      "text/html": [
       "<div>\n",
       "<style scoped>\n",
       "    .dataframe tbody tr th:only-of-type {\n",
       "        vertical-align: middle;\n",
       "    }\n",
       "\n",
       "    .dataframe tbody tr th {\n",
       "        vertical-align: top;\n",
       "    }\n",
       "\n",
       "    .dataframe thead th {\n",
       "        text-align: right;\n",
       "    }\n",
       "</style>\n",
       "<table border=\"1\" class=\"dataframe\">\n",
       "  <thead>\n",
       "    <tr style=\"text-align: right;\">\n",
       "      <th></th>\n",
       "      <th>name</th>\n",
       "      <th>one_hot_sequence</th>\n",
       "    </tr>\n",
       "  </thead>\n",
       "  <tbody>\n",
       "    <tr>\n",
       "      <th>0</th>\n",
       "      <td>bpRNA_RFAM_30074</td>\n",
       "      <td>[[0, 0, 0, 1], [1, 0, 0, 0], [0, 0, 1, 0], [0,...</td>\n",
       "    </tr>\n",
       "    <tr>\n",
       "      <th>1</th>\n",
       "      <td>bpRNA_RFAM_17909</td>\n",
       "      <td>[[0, 1, 0, 0], [0, 0, 1, 0], [0, 0, 0, 1], [1,...</td>\n",
       "    </tr>\n",
       "    <tr>\n",
       "      <th>2</th>\n",
       "      <td>bpRNA_RFAM_10080</td>\n",
       "      <td>[[0, 1, 0, 0], [1, 0, 0, 0], [0, 0, 0, 1], [1,...</td>\n",
       "    </tr>\n",
       "    <tr>\n",
       "      <th>3</th>\n",
       "      <td>bpRNA_CRW_3732</td>\n",
       "      <td>[[0, 0, 1, 0], [1, 0, 0, 0], [0, 0, 1, 0], [0,...</td>\n",
       "    </tr>\n",
       "    <tr>\n",
       "      <th>4</th>\n",
       "      <td>bpRNA_RFAM_10379</td>\n",
       "      <td>[[0, 0, 1, 0], [0, 0, 1, 0], [0, 1, 0, 0], [0,...</td>\n",
       "    </tr>\n",
       "  </tbody>\n",
       "</table>\n",
       "</div>"
      ],
      "text/plain": [
       "               name                                   one_hot_sequence\n",
       "0  bpRNA_RFAM_30074  [[0, 0, 0, 1], [1, 0, 0, 0], [0, 0, 1, 0], [0,...\n",
       "1  bpRNA_RFAM_17909  [[0, 1, 0, 0], [0, 0, 1, 0], [0, 0, 0, 1], [1,...\n",
       "2  bpRNA_RFAM_10080  [[0, 1, 0, 0], [1, 0, 0, 0], [0, 0, 0, 1], [1,...\n",
       "3    bpRNA_CRW_3732  [[0, 0, 1, 0], [1, 0, 0, 0], [0, 0, 1, 0], [0,...\n",
       "4  bpRNA_RFAM_10379  [[0, 0, 1, 0], [0, 0, 1, 0], [0, 1, 0, 0], [0,..."
      ]
     },
     "execution_count": 13,
     "metadata": {},
     "output_type": "execute_result"
    }
   ],
   "source": [
    "one_hot_sequence_df.head()"
   ]
  },
  {
   "cell_type": "code",
   "execution_count": 12,
   "metadata": {},
   "outputs": [
    {
     "ename": "NameError",
     "evalue": "name 'one_hot_sequence_df' is not defined",
     "output_type": "error",
     "traceback": [
      "\u001b[0;31m---------------------------------------------------------------------------\u001b[0m",
      "\u001b[0;31mNameError\u001b[0m                                 Traceback (most recent call last)",
      "Cell \u001b[0;32mIn[12], line 1\u001b[0m\n\u001b[0;32m----> 1\u001b[0m \u001b[43mone_hot_sequence_df\u001b[49m\u001b[38;5;241m.\u001b[39mto_pickle(\u001b[38;5;124m\"\u001b[39m\u001b[38;5;124m./bprnra_one_hot_sequences.pkl\u001b[39m\u001b[38;5;124m\"\u001b[39m)\n",
      "\u001b[0;31mNameError\u001b[0m: name 'one_hot_sequence_df' is not defined"
     ]
    }
   ],
   "source": [
    "one_hot_sequence_df.to_pickle(\"./bprnra_one_hot_sequences.pkl\")"
   ]
  },
  {
   "cell_type": "code",
   "execution_count": 15,
   "metadata": {},
   "outputs": [],
   "source": [
    "one_hot_sequence_df_unpickled = pd.read_pickle('./bprnra_one_hot_sequences.pkl')"
   ]
  },
  {
   "cell_type": "code",
   "execution_count": 23,
   "metadata": {},
   "outputs": [
    {
     "data": {
      "text/html": [
       "<div>\n",
       "<style scoped>\n",
       "    .dataframe tbody tr th:only-of-type {\n",
       "        vertical-align: middle;\n",
       "    }\n",
       "\n",
       "    .dataframe tbody tr th {\n",
       "        vertical-align: top;\n",
       "    }\n",
       "\n",
       "    .dataframe thead th {\n",
       "        text-align: right;\n",
       "    }\n",
       "</style>\n",
       "<table border=\"1\" class=\"dataframe\">\n",
       "  <thead>\n",
       "    <tr style=\"text-align: right;\">\n",
       "      <th></th>\n",
       "      <th>name</th>\n",
       "      <th>one_hot_sequence</th>\n",
       "    </tr>\n",
       "  </thead>\n",
       "  <tbody>\n",
       "    <tr>\n",
       "      <th>0</th>\n",
       "      <td>bpRNA_RFAM_30074</td>\n",
       "      <td>[[0, 0, 0, 1], [1, 0, 0, 0], [0, 0, 1, 0], [0,...</td>\n",
       "    </tr>\n",
       "    <tr>\n",
       "      <th>1</th>\n",
       "      <td>bpRNA_RFAM_17909</td>\n",
       "      <td>[[0, 1, 0, 0], [0, 0, 1, 0], [0, 0, 0, 1], [1,...</td>\n",
       "    </tr>\n",
       "    <tr>\n",
       "      <th>2</th>\n",
       "      <td>bpRNA_RFAM_10080</td>\n",
       "      <td>[[0, 1, 0, 0], [1, 0, 0, 0], [0, 0, 0, 1], [1,...</td>\n",
       "    </tr>\n",
       "    <tr>\n",
       "      <th>3</th>\n",
       "      <td>bpRNA_CRW_3732</td>\n",
       "      <td>[[0, 0, 1, 0], [1, 0, 0, 0], [0, 0, 1, 0], [0,...</td>\n",
       "    </tr>\n",
       "    <tr>\n",
       "      <th>4</th>\n",
       "      <td>bpRNA_RFAM_10379</td>\n",
       "      <td>[[0, 0, 1, 0], [0, 0, 1, 0], [0, 1, 0, 0], [0,...</td>\n",
       "    </tr>\n",
       "  </tbody>\n",
       "</table>\n",
       "</div>"
      ],
      "text/plain": [
       "               name                                   one_hot_sequence\n",
       "0  bpRNA_RFAM_30074  [[0, 0, 0, 1], [1, 0, 0, 0], [0, 0, 1, 0], [0,...\n",
       "1  bpRNA_RFAM_17909  [[0, 1, 0, 0], [0, 0, 1, 0], [0, 0, 0, 1], [1,...\n",
       "2  bpRNA_RFAM_10080  [[0, 1, 0, 0], [1, 0, 0, 0], [0, 0, 0, 1], [1,...\n",
       "3    bpRNA_CRW_3732  [[0, 0, 1, 0], [1, 0, 0, 0], [0, 0, 1, 0], [0,...\n",
       "4  bpRNA_RFAM_10379  [[0, 0, 1, 0], [0, 0, 1, 0], [0, 1, 0, 0], [0,..."
      ]
     },
     "execution_count": 23,
     "metadata": {},
     "output_type": "execute_result"
    }
   ],
   "source": [
    "one_hot_sequence_df_unpickled.head()"
   ]
  },
  {
   "cell_type": "markdown",
   "metadata": {},
   "source": [
    "# Storing the adjacency matrices in its own file"
   ]
  },
  {
   "cell_type": "code",
   "execution_count": 4,
   "metadata": {},
   "outputs": [],
   "source": [
    "pairing_matrices = []\n",
    "for index, pairings in bprna_df['pairings'].items():\n",
    "    length = bprna_df.loc[index, 'length']\n",
    "    couple = get_couples(pairings) # turns the dbn (which is referred to as 'structure' in BuildMatrixFromDotBracket argument and 'pairings' in bprna_df.csv) into a list of pairings\n",
    "    pairing_matrices.append(build_matrix(couple, length))"
   ]
  },
  {
   "cell_type": "code",
   "execution_count": 6,
   "metadata": {},
   "outputs": [],
   "source": [
    "# pairing_matrices_df = pd.DataFrame({'name': bprna_df['name'], 'pairing_matrix': pairing_matrices})\n",
    "pairing_matrices_df = pd.DataFrame({'name': bprna_df['name'], 'pairing_matrix': pairing_matrices})"
   ]
  },
  {
   "cell_type": "code",
   "execution_count": 7,
   "metadata": {},
   "outputs": [
    {
     "data": {
      "text/html": [
       "<div>\n",
       "<style scoped>\n",
       "    .dataframe tbody tr th:only-of-type {\n",
       "        vertical-align: middle;\n",
       "    }\n",
       "\n",
       "    .dataframe tbody tr th {\n",
       "        vertical-align: top;\n",
       "    }\n",
       "\n",
       "    .dataframe thead th {\n",
       "        text-align: right;\n",
       "    }\n",
       "</style>\n",
       "<table border=\"1\" class=\"dataframe\">\n",
       "  <thead>\n",
       "    <tr style=\"text-align: right;\">\n",
       "      <th></th>\n",
       "      <th>name</th>\n",
       "      <th>pairing_matrix</th>\n",
       "    </tr>\n",
       "  </thead>\n",
       "  <tbody>\n",
       "    <tr>\n",
       "      <th>0</th>\n",
       "      <td>bpRNA_RFAM_30074</td>\n",
       "      <td>[[0.0, 1.0, 0.0, 0.0, 0.0, 0.0, 0.0, 0.0, 0.0,...</td>\n",
       "    </tr>\n",
       "    <tr>\n",
       "      <th>1</th>\n",
       "      <td>bpRNA_RFAM_17909</td>\n",
       "      <td>[[0.0, 1.0, 0.0, 0.0, 0.0, 0.0, 0.0, 0.0, 0.0,...</td>\n",
       "    </tr>\n",
       "    <tr>\n",
       "      <th>2</th>\n",
       "      <td>bpRNA_RFAM_10080</td>\n",
       "      <td>[[0.0, 1.0, 0.0, 0.0, 0.0, 0.0, 0.0, 0.0, 0.0,...</td>\n",
       "    </tr>\n",
       "    <tr>\n",
       "      <th>3</th>\n",
       "      <td>bpRNA_CRW_3732</td>\n",
       "      <td>[[0.0, 1.0, 0.0, 0.0, 0.0, 0.0, 0.0, 0.0, 0.0,...</td>\n",
       "    </tr>\n",
       "    <tr>\n",
       "      <th>4</th>\n",
       "      <td>bpRNA_RFAM_10379</td>\n",
       "      <td>[[0.0, 1.0, 0.0, 0.0, 0.0, 0.0, 0.0, 0.0, 0.0,...</td>\n",
       "    </tr>\n",
       "  </tbody>\n",
       "</table>\n",
       "</div>"
      ],
      "text/plain": [
       "               name                                     pairing_matrix\n",
       "0  bpRNA_RFAM_30074  [[0.0, 1.0, 0.0, 0.0, 0.0, 0.0, 0.0, 0.0, 0.0,...\n",
       "1  bpRNA_RFAM_17909  [[0.0, 1.0, 0.0, 0.0, 0.0, 0.0, 0.0, 0.0, 0.0,...\n",
       "2  bpRNA_RFAM_10080  [[0.0, 1.0, 0.0, 0.0, 0.0, 0.0, 0.0, 0.0, 0.0,...\n",
       "3    bpRNA_CRW_3732  [[0.0, 1.0, 0.0, 0.0, 0.0, 0.0, 0.0, 0.0, 0.0,...\n",
       "4  bpRNA_RFAM_10379  [[0.0, 1.0, 0.0, 0.0, 0.0, 0.0, 0.0, 0.0, 0.0,..."
      ]
     },
     "execution_count": 7,
     "metadata": {},
     "output_type": "execute_result"
    }
   ],
   "source": [
    "pairing_matrices_df.head()"
   ]
  },
  {
   "cell_type": "code",
   "execution_count": 8,
   "metadata": {},
   "outputs": [],
   "source": [
    "pairing_matrices_df.to_pickle(\"./bprnra_pairing_matricies.pkl\")"
   ]
  },
  {
   "cell_type": "code",
   "execution_count": 6,
   "metadata": {},
   "outputs": [],
   "source": [
    "with open(\"./bprnra_pairing_matricies.pkl\", \"rb\") as f:\n",
    "    pickled_data = dill.load(f)"
   ]
  },
  {
   "cell_type": "code",
   "execution_count": 7,
   "metadata": {},
   "outputs": [
    {
     "name": "stdout",
     "output_type": "stream",
     "text": [
      "<class 'pandas.core.frame.DataFrame'>\n"
     ]
    }
   ],
   "source": [
    "print(type(pickled_data))"
   ]
  },
  {
   "cell_type": "code",
   "execution_count": 8,
   "metadata": {},
   "outputs": [
    {
     "data": {
      "text/html": [
       "<div>\n",
       "<style scoped>\n",
       "    .dataframe tbody tr th:only-of-type {\n",
       "        vertical-align: middle;\n",
       "    }\n",
       "\n",
       "    .dataframe tbody tr th {\n",
       "        vertical-align: top;\n",
       "    }\n",
       "\n",
       "    .dataframe thead th {\n",
       "        text-align: right;\n",
       "    }\n",
       "</style>\n",
       "<table border=\"1\" class=\"dataframe\">\n",
       "  <thead>\n",
       "    <tr style=\"text-align: right;\">\n",
       "      <th></th>\n",
       "      <th>name</th>\n",
       "      <th>pairing_matrix</th>\n",
       "    </tr>\n",
       "  </thead>\n",
       "  <tbody>\n",
       "    <tr>\n",
       "      <th>0</th>\n",
       "      <td>bpRNA_RFAM_30074</td>\n",
       "      <td>[[0.0, 1.0, 0.0, 0.0, 0.0, 0.0, 0.0, 0.0, 0.0,...</td>\n",
       "    </tr>\n",
       "    <tr>\n",
       "      <th>1</th>\n",
       "      <td>bpRNA_RFAM_17909</td>\n",
       "      <td>[[0.0, 1.0, 0.0, 0.0, 0.0, 0.0, 0.0, 0.0, 0.0,...</td>\n",
       "    </tr>\n",
       "    <tr>\n",
       "      <th>2</th>\n",
       "      <td>bpRNA_RFAM_10080</td>\n",
       "      <td>[[0.0, 1.0, 0.0, 0.0, 0.0, 0.0, 0.0, 0.0, 0.0,...</td>\n",
       "    </tr>\n",
       "    <tr>\n",
       "      <th>3</th>\n",
       "      <td>bpRNA_CRW_3732</td>\n",
       "      <td>[[0.0, 1.0, 0.0, 0.0, 0.0, 0.0, 0.0, 0.0, 0.0,...</td>\n",
       "    </tr>\n",
       "    <tr>\n",
       "      <th>4</th>\n",
       "      <td>bpRNA_RFAM_10379</td>\n",
       "      <td>[[0.0, 1.0, 0.0, 0.0, 0.0, 0.0, 0.0, 0.0, 0.0,...</td>\n",
       "    </tr>\n",
       "  </tbody>\n",
       "</table>\n",
       "</div>"
      ],
      "text/plain": [
       "               name                                     pairing_matrix\n",
       "0  bpRNA_RFAM_30074  [[0.0, 1.0, 0.0, 0.0, 0.0, 0.0, 0.0, 0.0, 0.0,...\n",
       "1  bpRNA_RFAM_17909  [[0.0, 1.0, 0.0, 0.0, 0.0, 0.0, 0.0, 0.0, 0.0,...\n",
       "2  bpRNA_RFAM_10080  [[0.0, 1.0, 0.0, 0.0, 0.0, 0.0, 0.0, 0.0, 0.0,...\n",
       "3    bpRNA_CRW_3732  [[0.0, 1.0, 0.0, 0.0, 0.0, 0.0, 0.0, 0.0, 0.0,...\n",
       "4  bpRNA_RFAM_10379  [[0.0, 1.0, 0.0, 0.0, 0.0, 0.0, 0.0, 0.0, 0.0,..."
      ]
     },
     "execution_count": 8,
     "metadata": {},
     "output_type": "execute_result"
    }
   ],
   "source": [
    "pickled_data.head()"
   ]
  },
  {
   "cell_type": "markdown",
   "metadata": {},
   "source": [
    "# Checking if all datasets match up"
   ]
  },
  {
   "cell_type": "code",
   "execution_count": 9,
   "metadata": {},
   "outputs": [],
   "source": [
    "bprna_df = pd.read_csv('./bprna_df.csv')\n",
    "# one_hot_sequence_df = pd.read_csv('./bprnra_one_hot_sequences.csv')\n",
    "# pickled_data = pd.read_csv('./bprnra_pairing_matricies.csv')"
   ]
  },
  {
   "cell_type": "code",
   "execution_count": 17,
   "metadata": {},
   "outputs": [],
   "source": [
    "bpRNA_RFAM_30074 = bprna_df[bprna_df['name'] == 'bpRNA_RFAM_30074']\n",
    "true_one_hot = get_one_hot_sequence(bpRNA_RFAM_30074['sequence'].item())"
   ]
  },
  {
   "cell_type": "code",
   "execution_count": 16,
   "metadata": {},
   "outputs": [],
   "source": [
    "bpRNA_RFAM_30074_one_hot = one_hot_sequence_df_unpickled[one_hot_sequence_df_unpickled['name'] == 'bpRNA_RFAM_30074']['one_hot_sequence'].item()"
   ]
  },
  {
   "cell_type": "code",
   "execution_count": 19,
   "metadata": {},
   "outputs": [
    {
     "name": "stdout",
     "output_type": "stream",
     "text": [
      "True\n"
     ]
    }
   ],
   "source": [
    "if true_one_hot.all() == bpRNA_RFAM_30074_one_hot.all():\n",
    "    print(True)"
   ]
  },
  {
   "cell_type": "code",
   "execution_count": 28,
   "metadata": {},
   "outputs": [],
   "source": [
    "bpRNA_RFAM_30074_couples = bpRNA_RFAM_30074.loc[0, 'pairings']\n",
    "bpRNA_RFAM_30074_length = bpRNA_RFAM_30074.loc[0, 'length']\n",
    "true_pairing_matrix = build_matrix(get_couples(bpRNA_RFAM_30074_couples), bpRNA_RFAM_30074_length)"
   ]
  },
  {
   "cell_type": "code",
   "execution_count": 29,
   "metadata": {},
   "outputs": [],
   "source": [
    "pickled_pairing_matrix = pickled_data[pickled_data['name'] == 'bpRNA_RFAM_30074']['pairing_matrix'].item()"
   ]
  },
  {
   "cell_type": "code",
   "execution_count": 30,
   "metadata": {},
   "outputs": [
    {
     "name": "stdout",
     "output_type": "stream",
     "text": [
      "True\n"
     ]
    },
    {
     "ename": "",
     "evalue": "",
     "output_type": "error",
     "traceback": [
      "\u001b[1;31mThe Kernel crashed while executing code in the the current cell or a previous cell. Please review the code in the cell(s) to identify a possible cause of the failure. Click <a href='https://aka.ms/vscodeJupyterKernelCrash'>here</a> for more info. View Jupyter <a href='command:jupyter.viewOutput'>log</a> for further details."
     ]
    }
   ],
   "source": [
    "if true_pairing_matrix.all() == pickled_pairing_matrix.all():\n",
    "    print(True)"
   ]
  },
  {
   "cell_type": "markdown",
   "metadata": {},
   "source": [
    "# Create 10 random samples"
   ]
  },
  {
   "cell_type": "code",
   "execution_count": 7,
   "metadata": {},
   "outputs": [],
   "source": [
    "def get_random_samples(df, n, max_len):\n",
    "    filtered_df = df[df['length'] < max_len]\n",
    "    random_sequence = filtered_df.sample(n=n, random_state=42)['sequence']\n",
    "    random_pairings = filtered_df.sample(n=n, random_state=42)['pairings']\n",
    "    \n",
    "    return random_sequence, random_pairings"
   ]
  },
  {
   "cell_type": "code",
   "execution_count": 8,
   "metadata": {},
   "outputs": [],
   "source": [
    "test_sequence_ten, test_pairings_ten = get_random_samples(bprna_df, 10, 178)"
   ]
  },
  {
   "cell_type": "code",
   "execution_count": 10,
   "metadata": {},
   "outputs": [
    {
     "data": {
      "text/plain": [
       "pandas.core.series.Series"
      ]
     },
     "execution_count": 10,
     "metadata": {},
     "output_type": "execute_result"
    }
   ],
   "source": []
  }
 ],
 "metadata": {
  "kernelspec": {
   "display_name": ".venv",
   "language": "python",
   "name": "python3"
  },
  "language_info": {
   "codemirror_mode": {
    "name": "ipython",
    "version": 3
   },
   "file_extension": ".py",
   "mimetype": "text/x-python",
   "name": "python",
   "nbconvert_exporter": "python",
   "pygments_lexer": "ipython3",
   "version": "3.11.7"
  }
 },
 "nbformat": 4,
 "nbformat_minor": 2
}
